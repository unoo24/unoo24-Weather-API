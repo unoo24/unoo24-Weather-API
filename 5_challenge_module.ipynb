{
 "cells": [
  {
   "cell_type": "code",
   "execution_count": 1,
   "metadata": {},
   "outputs": [],
   "source": [
    "# !pip install loguru\n",
    "# !pip install pyyaml\n",
    "# !pip install schedule"
   ]
  },
  {
   "cell_type": "markdown",
   "metadata": {},
   "source": [
    "# 로깅\n",
    "loguru 라이브러리를 사용하여 다양한 심각도 수준의 로그 메시지를 출력하는 예제입니다. 각 로그 레벨에 따라 다른 메시지를 기록합니다. 로그 심각도 수준에 따른 순서입니다. (TRACE < DEBUG < INFO < WARNING < ERROR < CRITICAL)"
   ]
  },
  {
   "cell_type": "code",
   "execution_count": 2,
   "metadata": {},
   "outputs": [
    {
     "name": "stderr",
     "output_type": "stream",
     "text": [
      "\u001b[32m2024-11-22 14:56:20.046\u001b[0m | \u001b[34m\u001b[1mDEBUG   \u001b[0m | \u001b[36m__main__\u001b[0m:\u001b[36m<module>\u001b[0m:\u001b[36m4\u001b[0m - \u001b[34m\u001b[1m디버그 메시지입니다.\u001b[0m\n",
      "\u001b[32m2024-11-22 14:56:20.046\u001b[0m | \u001b[1mINFO    \u001b[0m | \u001b[36m__main__\u001b[0m:\u001b[36m<module>\u001b[0m:\u001b[36m5\u001b[0m - \u001b[1m정보 메시지입니다.\u001b[0m\n",
      "\u001b[32m2024-11-22 14:56:20.047\u001b[0m | \u001b[32m\u001b[1mSUCCESS \u001b[0m | \u001b[36m__main__\u001b[0m:\u001b[36m<module>\u001b[0m:\u001b[36m6\u001b[0m - \u001b[32m\u001b[1m모든 것이 잘 작동하고 있습니다!\u001b[0m\n",
      "\u001b[32m2024-11-22 14:56:20.047\u001b[0m | \u001b[33m\u001b[1mWARNING \u001b[0m | \u001b[36m__main__\u001b[0m:\u001b[36m<module>\u001b[0m:\u001b[36m7\u001b[0m - \u001b[33m\u001b[1m경고 메시지입니다.\u001b[0m\n",
      "\u001b[32m2024-11-22 14:56:20.048\u001b[0m | \u001b[31m\u001b[1mERROR   \u001b[0m | \u001b[36m__main__\u001b[0m:\u001b[36m<module>\u001b[0m:\u001b[36m8\u001b[0m - \u001b[31m\u001b[1m에러 메시지입니다.\u001b[0m\n",
      "\u001b[32m2024-11-22 14:56:20.048\u001b[0m | \u001b[41m\u001b[1mCRITICAL\u001b[0m | \u001b[36m__main__\u001b[0m:\u001b[36m<module>\u001b[0m:\u001b[36m9\u001b[0m - \u001b[41m\u001b[1m심각한 에러 메시지입니다.\u001b[0m\n"
     ]
    }
   ],
   "source": [
    "from loguru import logger\n",
    "\n",
    "# 다양한 심각도 수준으로 로그 메시지를 기록\n",
    "logger.debug(\"디버그 메시지입니다.\")  # 디버깅 메시지\n",
    "logger.info(\"정보 메시지입니다.\")  # 일반적인 정보 메시지\n",
    "logger.success(\"모든 것이 잘 작동하고 있습니다!\")  # 성공 메시지\n",
    "logger.warning(\"경고 메시지입니다.\")  # 경고 메시지\n",
    "logger.error(\"에러 메시지입니다.\")  # 에러 메시지\n",
    "logger.critical(\"심각한 에러 메시지입니다.\")  # 심각한 에러 메시지"
   ]
  },
  {
   "cell_type": "code",
   "execution_count": 3,
   "metadata": {},
   "outputs": [
    {
     "data": {
      "text/plain": [
       "'2024-11-22_14-56-20'"
      ]
     },
     "execution_count": 3,
     "metadata": {},
     "output_type": "execute_result"
    }
   ],
   "source": [
    "from loguru import logger\n",
    "from datetime import datetime\n",
    "\n",
    "# 현재 시간에 기반한 파일명 생성\n",
    "current_datetime = datetime.now().strftime(\"%Y-%m-%d_%H-%M-%S\")\n",
    "current_datetime"
   ]
  },
  {
   "cell_type": "code",
   "execution_count": 4,
   "metadata": {},
   "outputs": [
    {
     "data": {
      "text/plain": [
       "'etl_process_2024-11-22_14-56-20.log'"
      ]
     },
     "execution_count": 4,
     "metadata": {},
     "output_type": "execute_result"
    }
   ],
   "source": [
    "log_filename = f\"etl_process_{current_datetime}.log\"\n",
    "log_filename"
   ]
  },
  {
   "cell_type": "code",
   "execution_count": 5,
   "metadata": {},
   "outputs": [
    {
     "name": "stderr",
     "output_type": "stream",
     "text": [
      "\u001b[32m2024-11-22 14:56:20.072\u001b[0m | \u001b[34m\u001b[1mDEBUG   \u001b[0m | \u001b[36m__main__\u001b[0m:\u001b[36m<module>\u001b[0m:\u001b[36m3\u001b[0m - \u001b[34m\u001b[1m디버그 메시지입니다.\u001b[0m\n",
      "\u001b[32m2024-11-22 14:56:20.073\u001b[0m | \u001b[1mINFO    \u001b[0m | \u001b[36m__main__\u001b[0m:\u001b[36m<module>\u001b[0m:\u001b[36m4\u001b[0m - \u001b[1m정보 메시지입니다.\u001b[0m\n",
      "\u001b[32m2024-11-22 14:56:20.073\u001b[0m | \u001b[32m\u001b[1mSUCCESS \u001b[0m | \u001b[36m__main__\u001b[0m:\u001b[36m<module>\u001b[0m:\u001b[36m5\u001b[0m - \u001b[32m\u001b[1m모든 것이 잘 작동하고 있습니다!\u001b[0m\n",
      "\u001b[32m2024-11-22 14:56:20.074\u001b[0m | \u001b[33m\u001b[1mWARNING \u001b[0m | \u001b[36m__main__\u001b[0m:\u001b[36m<module>\u001b[0m:\u001b[36m6\u001b[0m - \u001b[33m\u001b[1m경고 메시지입니다.\u001b[0m\n",
      "\u001b[32m2024-11-22 14:56:20.075\u001b[0m | \u001b[31m\u001b[1mERROR   \u001b[0m | \u001b[36m__main__\u001b[0m:\u001b[36m<module>\u001b[0m:\u001b[36m7\u001b[0m - \u001b[31m\u001b[1m에러 메시지입니다.\u001b[0m\n",
      "\u001b[32m2024-11-22 14:56:20.075\u001b[0m | \u001b[41m\u001b[1mCRITICAL\u001b[0m | \u001b[36m__main__\u001b[0m:\u001b[36m<module>\u001b[0m:\u001b[36m8\u001b[0m - \u001b[41m\u001b[1m심각한 에러 메시지입니다.\u001b[0m\n"
     ]
    }
   ],
   "source": [
    "# 파일 생성\n",
    "logger.add(\"logfile_all.log\", level=\"WARNING\")\n",
    "logger.debug(\"디버그 메시지입니다.\")  # 디버깅 메시지\n",
    "logger.info(\"정보 메시지입니다.\")  # 일반적인 정보 메시지\n",
    "logger.success(\"모든 것이 잘 작동하고 있습니다!\")  # 성공 메시지\n",
    "logger.warning(\"경고 메시지입니다.\")  # 경고 메시지\n",
    "logger.error(\"에러 메시지입니다.\")  # 에러 메시지\n",
    "logger.critical(\"심각한 에러 메시지입니다.\")  # 심각한 에러 메시지"
   ]
  },
  {
   "cell_type": "markdown",
   "metadata": {},
   "source": [
    "### level: 로그의 최소 기록 수준 설정\n",
    "로그를 기록할 최소 수준을 설정할 수 있습니다. 예를 들어, level=\"WARNING\"로 설정하면 WARNING 이상의 중요도를 가진 로그만 기록됩니다.\n",
    "- 참고 심각도 수준: TRACE < DEBUG < INFO < WARNING < ERROR < CRITICAL"
   ]
  },
  {
   "cell_type": "code",
   "execution_count": 6,
   "metadata": {},
   "outputs": [
    {
     "name": "stderr",
     "output_type": "stream",
     "text": [
      "\u001b[32m2024-11-22 14:56:20.112\u001b[0m | \u001b[34m\u001b[1mDEBUG   \u001b[0m | \u001b[36m__main__\u001b[0m:\u001b[36m<module>\u001b[0m:\u001b[36m3\u001b[0m - \u001b[34m\u001b[1m디버그 메시지입니다.\u001b[0m\n",
      "\u001b[32m2024-11-22 14:56:20.113\u001b[0m | \u001b[1mINFO    \u001b[0m | \u001b[36m__main__\u001b[0m:\u001b[36m<module>\u001b[0m:\u001b[36m4\u001b[0m - \u001b[1m정보 메시지입니다.\u001b[0m\n",
      "\u001b[32m2024-11-22 14:56:20.114\u001b[0m | \u001b[32m\u001b[1mSUCCESS \u001b[0m | \u001b[36m__main__\u001b[0m:\u001b[36m<module>\u001b[0m:\u001b[36m5\u001b[0m - \u001b[32m\u001b[1m모든 것이 잘 작동하고 있습니다!\u001b[0m\n",
      "\u001b[32m2024-11-22 14:56:20.114\u001b[0m | \u001b[33m\u001b[1mWARNING \u001b[0m | \u001b[36m__main__\u001b[0m:\u001b[36m<module>\u001b[0m:\u001b[36m6\u001b[0m - \u001b[33m\u001b[1m경고 메시지입니다.\u001b[0m\n",
      "\u001b[32m2024-11-22 14:56:20.115\u001b[0m | \u001b[31m\u001b[1mERROR   \u001b[0m | \u001b[36m__main__\u001b[0m:\u001b[36m<module>\u001b[0m:\u001b[36m7\u001b[0m - \u001b[31m\u001b[1m에러 메시지입니다.\u001b[0m\n",
      "\u001b[32m2024-11-22 14:56:20.115\u001b[0m | \u001b[41m\u001b[1mCRITICAL\u001b[0m | \u001b[36m__main__\u001b[0m:\u001b[36m<module>\u001b[0m:\u001b[36m8\u001b[0m - \u001b[41m\u001b[1m심각한 에러 메시지입니다.\u001b[0m\n"
     ]
    }
   ],
   "source": [
    "logger.add(\"logfile_level.log\", level=\"WARNING\")\n",
    "\n",
    "logger.debug(\"디버그 메시지입니다.\") # 기록되지 않음\n",
    "logger.info(\"정보 메시지입니다.\") # 기록되지 않음\n",
    "logger.success(\"모든 것이 잘 작동하고 있습니다!\") # 기록되지 않음\n",
    "logger.warning(\"경고 메시지입니다.\") # 기록됨\n",
    "logger.error(\"에러 메시지입니다.\") # 기록됨\n",
    "logger.critical(\"심각한 에러 메시지입니다.\") # 기록됨"
   ]
  },
  {
   "cell_type": "markdown",
   "metadata": {},
   "source": [
    "#### format: 로그의 출력 형식 설정"
   ]
  },
  {
   "cell_type": "code",
   "execution_count": 7,
   "metadata": {},
   "outputs": [
    {
     "name": "stderr",
     "output_type": "stream",
     "text": [
      "\u001b[32m2024-11-22 14:56:20.124\u001b[0m | \u001b[1mINFO    \u001b[0m | \u001b[36m__main__\u001b[0m:\u001b[36m<module>\u001b[0m:\u001b[36m2\u001b[0m - \u001b[1m정보 메시지\u001b[0m\n"
     ]
    }
   ],
   "source": [
    "logger.add(\"logfile_format.log\", format=\"{time:YYYY-MM-DD HH:mm:ss} | {level} | {message}\")\n",
    "logger.info(\"정보 메시지\")"
   ]
  },
  {
   "cell_type": "markdown",
   "metadata": {},
   "source": [
    "# 스케줄링"
   ]
  },
  {
   "cell_type": "markdown",
   "metadata": {},
   "source": [
    "이 코드는 job() 함수가 1초마다 실행되도록 설정합니다. schedule.every()를 사용하여 주기적으로 실행할 시간을 설정하고, do()를 통해 실행할 작업을 지정합니다."
   ]
  },
  {
   "cell_type": "code",
   "execution_count": 8,
   "metadata": {},
   "outputs": [
    {
     "name": "stdout",
     "output_type": "stream",
     "text": [
      "작업이 실행되었습니다!\n",
      "작업이 실행되었습니다!\n",
      "작업이 실행되었습니다!\n",
      "작업이 실행되었습니다!\n"
     ]
    },
    {
     "ename": "KeyboardInterrupt",
     "evalue": "",
     "output_type": "error",
     "traceback": [
      "\u001b[0;31m---------------------------------------------------------------------------\u001b[0m",
      "\u001b[0;31mKeyboardInterrupt\u001b[0m                         Traceback (most recent call last)",
      "Cell \u001b[0;32mIn[8], line 14\u001b[0m\n\u001b[1;32m     12\u001b[0m \u001b[38;5;28;01mwhile\u001b[39;00m \u001b[38;5;28;01mTrue\u001b[39;00m:\n\u001b[1;32m     13\u001b[0m     schedule\u001b[38;5;241m.\u001b[39mrun_pending()  \u001b[38;5;66;03m# 예약된 작업이 있으면 실행\u001b[39;00m\n\u001b[0;32m---> 14\u001b[0m     \u001b[43mtime\u001b[49m\u001b[38;5;241;43m.\u001b[39;49m\u001b[43msleep\u001b[49m\u001b[43m(\u001b[49m\u001b[38;5;241;43m1\u001b[39;49m\u001b[43m)\u001b[49m  \u001b[38;5;66;03m# 1초마다 체크\u001b[39;00m\n",
      "\u001b[0;31mKeyboardInterrupt\u001b[0m: "
     ]
    }
   ],
   "source": [
    "import schedule\n",
    "import time\n",
    "\n",
    "# 실행할 함수 정의\n",
    "def job():\n",
    "    print(\"작업이 실행되었습니다!\")\n",
    "\n",
    "# 작업을 1초마다 실행하도록 스케줄링\n",
    "schedule.every(1).seconds.do(job)\n",
    "\n",
    "# 스케줄러 실행\n",
    "while True:\n",
    "    schedule.run_pending()  # 예약된 작업이 있으면 실행\n",
    "    time.sleep(1)  # 1초마다 체크"
   ]
  },
  {
   "cell_type": "markdown",
   "metadata": {},
   "source": [
    "### 다양한 주기 설정"
   ]
  },
  {
   "cell_type": "code",
   "execution_count": null,
   "metadata": {},
   "outputs": [],
   "source": [
    "schedule.every(1).seconds.do(job)\n",
    "\n",
    "\n",
    "\n",
    "# 10초마다 실행\n",
    "schedule.every(10).seconds.do(job)\n",
    "\n",
    "# 1분마다 실행\n",
    "schedule.every(60).seconds.do(job)\n",
    "schedule.every(1).minute.do(job)\n",
    "\n",
    "# 매일 자정에 실행\n",
    "schedule.every().day.at(\"00:00\").do(job)\n",
    "\n",
    "# 매주 월요일 9시에 실행\n",
    "schedule.every().monday.at(\"09:00\").do(job)"
   ]
  },
  {
   "cell_type": "code",
   "execution_count": 12,
   "metadata": {},
   "outputs": [],
   "source": [
    "def job2(str):\n",
    "    print('작업실행' + str)"
   ]
  },
  {
   "cell_type": "code",
   "execution_count": 15,
   "metadata": {},
   "outputs": [
    {
     "name": "stdout",
     "output_type": "stream",
     "text": [
      "작업실행hello\n"
     ]
    }
   ],
   "source": [
    "str = \"hello\"\n",
    "job2(str)"
   ]
  },
  {
   "cell_type": "code",
   "execution_count": 16,
   "metadata": {},
   "outputs": [
    {
     "name": "stdout",
     "output_type": "stream",
     "text": [
      "작업실행\n",
      "작업실행\n",
      "작업실행\n",
      "작업실행\n",
      "작업이 실행되었습니다!\n",
      "작업실행hello\n",
      "작업실행\n",
      "작업실행\n",
      "작업실행\n",
      "작업실행\n",
      "작업이 실행되었습니다!\n",
      "작업실행hello\n",
      "작업실행\n",
      "작업실행\n",
      "작업실행\n",
      "작업실행\n",
      "작업이 실행되었습니다!\n",
      "작업실행hello\n",
      "작업실행\n",
      "작업실행\n",
      "작업실행\n",
      "작업실행\n",
      "작업이 실행되었습니다!\n",
      "작업실행hello\n",
      "작업실행\n",
      "작업실행\n",
      "작업실행\n",
      "작업실행\n",
      "작업이 실행되었습니다!\n",
      "작업실행hello\n",
      "작업실행\n",
      "작업실행\n",
      "작업실행\n",
      "작업실행\n",
      "작업이 실행되었습니다!\n",
      "작업실행hello\n",
      "작업실행\n",
      "작업실행\n",
      "작업실행\n",
      "작업실행\n",
      "작업이 실행되었습니다!\n",
      "작업실행hello\n",
      "작업실행\n",
      "작업실행\n",
      "작업실행\n",
      "작업실행\n",
      "작업이 실행되었습니다!\n",
      "작업실행hello\n",
      "작업실행\n",
      "작업실행\n",
      "작업실행\n",
      "작업실행\n",
      "작업이 실행되었습니다!\n",
      "작업실행hello\n",
      "작업실행\n",
      "작업실행\n",
      "작업실행\n",
      "작업실행\n",
      "작업이 실행되었습니다!\n",
      "작업실행hello\n",
      "작업실행\n",
      "작업실행\n",
      "작업실행\n",
      "작업실행\n",
      "작업이 실행되었습니다!\n",
      "작업실행hello\n",
      "작업실행\n",
      "작업실행\n",
      "작업실행\n",
      "작업실행\n",
      "작업이 실행되었습니다!\n",
      "작업실행hello\n",
      "작업실행\n",
      "작업실행\n",
      "작업실행\n",
      "작업실행\n",
      "작업이 실행되었습니다!\n",
      "작업실행hello\n",
      "작업실행\n",
      "작업실행\n",
      "작업실행\n",
      "작업실행\n",
      "작업이 실행되었습니다!\n",
      "작업실행hello\n",
      "작업실행\n",
      "작업실행\n",
      "작업실행\n",
      "작업실행\n",
      "작업이 실행되었습니다!\n",
      "작업실행hello\n",
      "작업실행\n",
      "작업실행\n",
      "작업실행\n",
      "작업실행\n",
      "작업이 실행되었습니다!\n",
      "작업실행hello\n",
      "작업실행\n",
      "작업실행\n",
      "작업실행\n",
      "작업실행\n",
      "작업이 실행되었습니다!\n",
      "작업실행hello\n",
      "작업실행\n",
      "작업실행\n",
      "작업실행\n",
      "작업실행\n",
      "작업이 실행되었습니다!\n"
     ]
    },
    {
     "ename": "KeyboardInterrupt",
     "evalue": "",
     "output_type": "error",
     "traceback": [
      "\u001b[0;31m---------------------------------------------------------------------------\u001b[0m",
      "\u001b[0;31mKeyboardInterrupt\u001b[0m                         Traceback (most recent call last)",
      "Cell \u001b[0;32mIn[16], line 6\u001b[0m\n\u001b[1;32m      4\u001b[0m \u001b[38;5;28;01mwhile\u001b[39;00m \u001b[38;5;28;01mTrue\u001b[39;00m:\n\u001b[1;32m      5\u001b[0m     schedule\u001b[38;5;241m.\u001b[39mrun_pending()  \u001b[38;5;66;03m# 예약된 작업이 있으면 실행\u001b[39;00m\n\u001b[0;32m----> 6\u001b[0m     time\u001b[38;5;241m.\u001b[39msleep(\u001b[38;5;241m1\u001b[39m)  \u001b[38;5;66;03m# 1초마다 체크\u001b[39;00m\n",
      "\u001b[0;31mKeyboardInterrupt\u001b[0m: "
     ]
    }
   ],
   "source": [
    "str = \"hello\"\n",
    "schedule.every(1).seconds.do(job2, str)\n",
    "\n",
    "while True:\n",
    "    schedule.run_pending()  # 예약된 작업이 있으면 실행\n",
    "    time.sleep(1)  # 1초마다 체크"
   ]
  },
  {
   "cell_type": "markdown",
   "metadata": {},
   "source": [
    "# YAML"
   ]
  },
  {
   "cell_type": "code",
   "execution_count": null,
   "metadata": {},
   "outputs": [],
   "source": [
    "\"\"\"\n",
    "log_folder_path: './etl_module/logs'\n",
    "cities:\n",
    "  - 'New York'\n",
    "  - 'Los Angeles'\n",
    "  - 'Chicago'\n",
    "  - 'Houston'\n",
    "  - 'Phoenix'\n",
    "run_minutes: 5\n",
    "\"\"\""
   ]
  },
  {
   "cell_type": "markdown",
   "metadata": {},
   "source": [
    "PyYAML을 사용하여 이 YAML 파일을 읽어 Python에서 사용할 수 있는 데이터로 변환합니다."
   ]
  },
  {
   "cell_type": "code",
   "execution_count": 17,
   "metadata": {},
   "outputs": [
    {
     "data": {
      "text/plain": [
       "{'log_folder_path': './etl_module/logs',\n",
       " 'cities': ['New York', 'Los Angeles', 'Chicago', 'Houston', 'Phoenix'],\n",
       " 'run_minutes': 5}"
      ]
     },
     "execution_count": 17,
     "metadata": {},
     "output_type": "execute_result"
    }
   ],
   "source": [
    "import yaml\n",
    "\n",
    "yaml_file_path = 'config.yaml'\n",
    "\n",
    "# YAML 파일을 읽어서 Python 객체로 변환\n",
    "with open(yaml_file_path, 'r') as yaml_file:\n",
    "    config = yaml.safe_load(yaml_file)\n",
    "\n",
    "# 읽은 데이터 출력\n",
    "config"
   ]
  },
  {
   "cell_type": "code",
   "execution_count": 18,
   "metadata": {},
   "outputs": [
    {
     "data": {
      "text/plain": [
       "'./etl_module/logs'"
      ]
     },
     "execution_count": 18,
     "metadata": {},
     "output_type": "execute_result"
    }
   ],
   "source": [
    "config['log_folder_path']"
   ]
  },
  {
   "cell_type": "code",
   "execution_count": 19,
   "metadata": {},
   "outputs": [
    {
     "data": {
      "text/plain": [
       "'./etl_module/logs'"
      ]
     },
     "execution_count": 19,
     "metadata": {},
     "output_type": "execute_result"
    }
   ],
   "source": [
    "config.get('log_folder_path')"
   ]
  },
  {
   "cell_type": "code",
   "execution_count": 20,
   "metadata": {},
   "outputs": [
    {
     "data": {
      "text/plain": [
       "['New York', 'Los Angeles', 'Chicago', 'Houston', 'Phoenix']"
      ]
     },
     "execution_count": 20,
     "metadata": {},
     "output_type": "execute_result"
    }
   ],
   "source": [
    "config.get('cities')\n"
   ]
  },
  {
   "cell_type": "code",
   "execution_count": 21,
   "metadata": {},
   "outputs": [
    {
     "data": {
      "text/plain": [
       "5"
      ]
     },
     "execution_count": 21,
     "metadata": {},
     "output_type": "execute_result"
    }
   ],
   "source": [
    "config.get('run_minutes')"
   ]
  },
  {
   "cell_type": "code",
   "execution_count": null,
   "metadata": {},
   "outputs": [],
   "source": []
  }
 ],
 "metadata": {
  "kernelspec": {
   "display_name": "sparta",
   "language": "python",
   "name": "python3"
  },
  "language_info": {
   "codemirror_mode": {
    "name": "ipython",
    "version": 3
   },
   "file_extension": ".py",
   "mimetype": "text/x-python",
   "name": "python",
   "nbconvert_exporter": "python",
   "pygments_lexer": "ipython3",
   "version": "3.11.10"
  }
 },
 "nbformat": 4,
 "nbformat_minor": 2
}
